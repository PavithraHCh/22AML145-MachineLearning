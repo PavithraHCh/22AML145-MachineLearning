{
 "cells": [
  {
   "cell_type": "markdown",
   "id": "07eb74cf-c3d5-4a4a-86af-2cb40c0e479e",
   "metadata": {},
   "source": [
    "# CUSTOMER SEGEMENTATION USING DECISION TREES\n",
    "\n",
    "_**Predicting a segment that a customer could belong to based on demographic information, spending habits and other parameters.**_"
   ]
  },
  {
   "cell_type": "code",
   "execution_count": null,
   "id": "c2a63fd6-af27-4a64-a0f0-55683574db68",
   "metadata": {
    "tags": []
   },
   "outputs": [],
   "source": [
    "# Imports required packages\n",
    "import pandas as pd\n",
    "from sklearn.impute import SimpleImputer\n",
    "from sklearn.preprocessing import OneHotEncoder\n",
    "from sklearn.pipeline import Pipeline\n",
    "from sklearn.compose import ColumnTransformer\n",
    "\n",
    "from sklearn.tree import DecisionTreeClassifier\n",
    "from sklearn.model_selection import cross_val_predict\n",
    "\n",
    "import matplotlib.pyplot as plt\n",
    "from sklearn.metrics import ConfusionMatrixDisplay, accuracy_score"
   ]
  },
  {
   "cell_type": "markdown",
   "id": "41e30c39-a324-42a3-833f-24c6488f1ac8",
   "metadata": {
    "tags": []
   },
   "source": [
    "## Data Collection"
   ]
  },
  {
   "cell_type": "code",
   "execution_count": null,
   "id": "82ef2d00-e5ad-4823-9b3d-b49afcee5b52",
   "metadata": {
    "tags": []
   },
   "outputs": [],
   "source": [
    "# Load dataset from csv file"
   ]
  },
  {
   "cell_type": "code",
   "execution_count": null,
   "id": "12c98d2d-d701-49b7-86ac-058f3a197fc6",
   "metadata": {
    "tags": []
   },
   "outputs": [],
   "source": [
    "# Display training data samples"
   ]
  },
  {
   "cell_type": "code",
   "execution_count": null,
   "id": "74fb4138-6935-4b6c-bc5f-515d36aca8d7",
   "metadata": {
    "tags": []
   },
   "outputs": [],
   "source": [
    "# Display testing data samples"
   ]
  },
  {
   "cell_type": "markdown",
   "id": "bf3c38cb-66f4-4901-b6fe-cc4116c24ce3",
   "metadata": {
    "tags": []
   },
   "source": [
    "## Exploratory Data Analysis (EDA)"
   ]
  },
  {
   "cell_type": "code",
   "execution_count": null,
   "id": "e4a3f88c-1616-497a-88e2-950df1a54d17",
   "metadata": {
    "tags": []
   },
   "outputs": [],
   "source": [
    "# Check for basic information about the dataset"
   ]
  },
  {
   "cell_type": "code",
   "execution_count": null,
   "id": "ed166b62-f157-4b5a-b81c-05c988d19a73",
   "metadata": {
    "tags": []
   },
   "outputs": [],
   "source": [
    "# Check for the descriptive statistics of the dataset"
   ]
  },
  {
   "cell_type": "markdown",
   "id": "c6d5f870-f25f-49cc-b9aa-f2406d3d7627",
   "metadata": {},
   "source": [
    "**Record the Observation**\n",
    "\n",
    "\n"
   ]
  },
  {
   "cell_type": "code",
   "execution_count": null,
   "id": "2b34c2ed-ad85-4b58-8fa1-6a3a2fb918f8",
   "metadata": {
    "tags": []
   },
   "outputs": [],
   "source": [
    "# Check for attributes having missing values in train dataset"
   ]
  },
  {
   "cell_type": "markdown",
   "id": "c5761824-855e-413a-a9f2-b25af6436f41",
   "metadata": {},
   "source": [
    "As total number (by summing up non-zeros above) of training instances having missing value is significant with respect to total training instances, removing them may not make sense."
   ]
  },
  {
   "cell_type": "markdown",
   "id": "ec823152-180d-4f83-ab9e-21afe4f8f6e4",
   "metadata": {},
   "source": [
    "**Checks for the values in each categorical attribute**"
   ]
  },
  {
   "cell_type": "code",
   "execution_count": null,
   "id": "4603c6c2-f717-4ded-9c61-1cd4932be8ee",
   "metadata": {
    "tags": []
   },
   "outputs": [],
   "source": []
  },
  {
   "cell_type": "markdown",
   "id": "ee7caddf-cc05-4925-8d5b-4a28a951d432",
   "metadata": {},
   "source": [
    "## Data Preparation"
   ]
  },
  {
   "cell_type": "markdown",
   "id": "11f5a557-120d-43d3-8ee9-815889ec6e3b",
   "metadata": {},
   "source": [
    "### Checking for Duplicate Instances"
   ]
  },
  {
   "cell_type": "code",
   "execution_count": null,
   "id": "b88e1ba2-81b0-4ec9-83df-7c21b90d4bc3",
   "metadata": {
    "tags": []
   },
   "outputs": [],
   "source": [
    "# Drops duplicate instances, if any"
   ]
  },
  {
   "cell_type": "markdown",
   "id": "ee417860-97a7-471a-b158-f1e2e0054718",
   "metadata": {},
   "source": [
    "### Removing Non-required Attributes"
   ]
  },
  {
   "cell_type": "code",
   "execution_count": null,
   "id": "14cc1e46-a1ef-4236-aed0-945f868784ca",
   "metadata": {
    "tags": []
   },
   "outputs": [],
   "source": [
    "# Drops 'ID' attributes from both train and test dataset"
   ]
  },
  {
   "cell_type": "markdown",
   "id": "f8117abe-80f3-4388-a6fa-1fb8ec853c12",
   "metadata": {},
   "source": [
    "### Setting-up Pipeline for Data Transformation"
   ]
  },
  {
   "cell_type": "code",
   "execution_count": null,
   "id": "0c2c88d4-959b-4128-bf0a-5c86f54d4892",
   "metadata": {
    "tags": []
   },
   "outputs": [],
   "source": [
    "# Stores name of the categorical and numeric attributes\n"
   ]
  },
  {
   "cell_type": "code",
   "execution_count": null,
   "id": "e976858e-9bdc-42e7-b00a-6bbc1c4f2fa6",
   "metadata": {
    "tags": []
   },
   "outputs": [],
   "source": [
    "# Sets up pipeline for categorical attributes"
   ]
  },
  {
   "cell_type": "code",
   "execution_count": null,
   "id": "6437d5e5-6c9a-44f6-b305-676989b6c7f2",
   "metadata": {
    "tags": []
   },
   "outputs": [],
   "source": [
    "# Sets up column transfomer for both categorial and numerical attributes"
   ]
  },
  {
   "cell_type": "code",
   "execution_count": null,
   "id": "ea1736c7-85e8-4cfb-a511-dfeea684576a",
   "metadata": {
    "tags": []
   },
   "outputs": [],
   "source": [
    "# Separates target from the train dataset"
   ]
  },
  {
   "cell_type": "markdown",
   "id": "46192c9c-2f99-4415-b8e7-5961e98583d6",
   "metadata": {},
   "source": [
    "## Modeling"
   ]
  },
  {
   "cell_type": "code",
   "execution_count": null,
   "id": "d65da769-bd49-410e-bf98-9951af39c497",
   "metadata": {
    "tags": []
   },
   "outputs": [],
   "source": [
    "# Sets up final pipeline for modeling\n",
    "\n",
    "model_pipeline = Pipeline([\n",
    "    (\"data_transformation\", column_transformer),\n",
    "    (\"modeling\", DecisionTreeClassifier(criterion=\"entropy\", max_depth = 5, random_state=42))\n",
    "])"
   ]
  },
  {
   "cell_type": "code",
   "execution_count": null,
   "id": "dad89e7d-8ebe-4b11-8705-6a5b64e207e9",
   "metadata": {},
   "outputs": [],
   "source": [
    "# Performs model training and predictions over cross validation\n",
    "y_train_predictions = cross_val_predict(model_pipeline, X_train, y_train, cv=10, n_jobs=-1)"
   ]
  },
  {
   "cell_type": "code",
   "execution_count": null,
   "id": "2e97aa01-514a-4334-96af-9a9993cad9c9",
   "metadata": {
    "tags": []
   },
   "outputs": [],
   "source": [
    "# Checks for accuracy over cross validation\n",
    "print(\"Cross Validation Accuracy: {:.2%}\".format(accuracy_score(y_train, y_train_predictions)))"
   ]
  },
  {
   "cell_type": "code",
   "execution_count": null,
   "id": "660b9bb0-77c4-463d-8c30-2255512b2cc3",
   "metadata": {
    "tags": []
   },
   "outputs": [],
   "source": [
    "# Shows the confusion matrix\n",
    "\n",
    "ConfusionMatrixDisplay.from_predictions(y_train, y_train_predictions)\n",
    "plt.show()"
   ]
  },
  {
   "cell_type": "code",
   "execution_count": null,
   "id": "b16db836-3dcf-4244-856f-e7fdf42b9714",
   "metadata": {
    "tags": []
   },
   "outputs": [],
   "source": [
    "# Shows the normalized version of the same confusion matrix\n",
    "\n",
    "ConfusionMatrixDisplay.from_predictions(y_train, y_train_predictions, normalize='true', values_format=\".0%\")\n",
    "plt.show()"
   ]
  },
  {
   "cell_type": "markdown",
   "id": "0e19540b-a5b0-4d26-ae79-823dc2a3e86d",
   "metadata": {},
   "source": [
    "## Predictions"
   ]
  },
  {
   "cell_type": "code",
   "execution_count": null,
   "id": "352c2b98-4a41-4b59-b782-6245317b772c",
   "metadata": {
    "tags": []
   },
   "outputs": [],
   "source": [
    "# First, trains the model on full train dataset before making predictions on test data\n",
    "model_pipeline.fit(X_train, y_train)"
   ]
  },
  {
   "cell_type": "code",
   "execution_count": null,
   "id": "b1cf0c9a-5122-4c30-87d7-c4a744547d19",
   "metadata": {
    "tags": []
   },
   "outputs": [],
   "source": [
    "# Prepares the test dataset by dropping column \"Segmentation\"\n",
    "X_test = test_dataset.drop([\"Segmentation\"], axis=1)"
   ]
  },
  {
   "cell_type": "code",
   "execution_count": null,
   "id": "920d3a8e-b4ab-46f4-949d-d0d3f1b7298f",
   "metadata": {
    "tags": []
   },
   "outputs": [],
   "source": [
    "# Makes predictions on the test dataset\n",
    "y_test_predictions = model_pipeline.predict(X_test)\n",
    "\n",
    "# Shows few of the predictions\n",
    "print(y_test_predictions)"
   ]
  },
  {
   "cell_type": "code",
   "execution_count": null,
   "id": "99cd0977-0cd8-4475-8f5f-1b5bed5d6a74",
   "metadata": {
    "tags": []
   },
   "outputs": [],
   "source": [
    "# Overrides existing test dataset column 'Segmentation' with the prediction values\n",
    "\n",
    "test_dataset.Segmentation = y_test_predictions\n",
    "\n",
    "display(test_dataset)"
   ]
  },
  {
   "cell_type": "markdown",
   "id": "5bd2d7cc-45c7-4e0c-8188-27d6eb7320f3",
   "metadata": {},
   "source": [
    "The above test dataset can be saved and submitted for scoring/grading the model performance."
   ]
  },
  {
   "cell_type": "code",
   "execution_count": null,
   "id": "3bbc5f99-2694-4251-834f-04ea9d4504ea",
   "metadata": {},
   "outputs": [],
   "source": []
  }
 ],
 "metadata": {
  "kernelspec": {
   "display_name": "Python 3 (ipykernel)",
   "language": "python",
   "name": "python3"
  },
  "language_info": {
   "codemirror_mode": {
    "name": "ipython",
    "version": 3
   },
   "file_extension": ".py",
   "mimetype": "text/x-python",
   "name": "python",
   "nbconvert_exporter": "python",
   "pygments_lexer": "ipython3",
   "version": "3.11.7"
  }
 },
 "nbformat": 4,
 "nbformat_minor": 5
}
